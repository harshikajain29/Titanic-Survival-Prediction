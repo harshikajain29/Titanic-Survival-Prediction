{
 "cells": [
  {
   "cell_type": "code",
   "execution_count": 1,
   "metadata": {},
   "outputs": [],
   "source": [
    "import pandas as pd\n",
    "import seaborn as sns\n",
    "import matplotlib.pyplot as plt"
   ]
  },
  {
   "cell_type": "markdown",
   "metadata": {},
   "source": [
    "Let's first compare the two datasets to ensure there is consistency between them and determine what cleaning we need to do."
   ]
  },
  {
   "cell_type": "code",
   "execution_count": 2,
   "metadata": {},
   "outputs": [
    {
     "name": "stdout",
     "output_type": "stream",
     "text": [
      "     PassengerId  Survived  Pclass  \\\n",
      "0              1         0       3   \n",
      "1              2         1       1   \n",
      "2              3         1       3   \n",
      "3              4         1       1   \n",
      "4              5         0       3   \n",
      "..           ...       ...     ...   \n",
      "886          887         0       2   \n",
      "887          888         1       1   \n",
      "888          889         0       3   \n",
      "889          890         1       1   \n",
      "890          891         0       3   \n",
      "\n",
      "                                                  Name     Sex   Age  SibSp  \\\n",
      "0                              Braund, Mr. Owen Harris    male  22.0      1   \n",
      "1    Cumings, Mrs. John Bradley (Florence Briggs Th...  female  38.0      1   \n",
      "2                               Heikkinen, Miss. Laina  female  26.0      0   \n",
      "3         Futrelle, Mrs. Jacques Heath (Lily May Peel)  female  35.0      1   \n",
      "4                             Allen, Mr. William Henry    male  35.0      0   \n",
      "..                                                 ...     ...   ...    ...   \n",
      "886                              Montvila, Rev. Juozas    male  27.0      0   \n",
      "887                       Graham, Miss. Margaret Edith  female  19.0      0   \n",
      "888           Johnston, Miss. Catherine Helen \"Carrie\"  female   NaN      1   \n",
      "889                              Behr, Mr. Karl Howell    male  26.0      0   \n",
      "890                                Dooley, Mr. Patrick    male  32.0      0   \n",
      "\n",
      "     Parch            Ticket     Fare Cabin Embarked  \n",
      "0        0         A/5 21171   7.2500   NaN        S  \n",
      "1        0          PC 17599  71.2833   C85        C  \n",
      "2        0  STON/O2. 3101282   7.9250   NaN        S  \n",
      "3        0            113803  53.1000  C123        S  \n",
      "4        0            373450   8.0500   NaN        S  \n",
      "..     ...               ...      ...   ...      ...  \n",
      "886      0            211536  13.0000   NaN        S  \n",
      "887      0            112053  30.0000   B42        S  \n",
      "888      2        W./C. 6607  23.4500   NaN        S  \n",
      "889      0            111369  30.0000  C148        C  \n",
      "890      0            370376   7.7500   NaN        Q  \n",
      "\n",
      "[891 rows x 12 columns]\n"
     ]
    }
   ],
   "source": [
    "\n",
    "df= pd.read_csv(r\"C:\\Users\\harshika jain\\Documents\\NetBeansProjects\\timetable\\timetable\\build\\classes\\Titanic_Survival_Prediction\\data\\train.csv\")\n",
    "print(df)"
   ]
  },
  {
   "cell_type": "code",
   "execution_count": 3,
   "metadata": {},
   "outputs": [
    {
     "name": "stdout",
     "output_type": "stream",
     "text": [
      "     PassengerId  Pclass                                          Name  \\\n",
      "0            892       3                              Kelly, Mr. James   \n",
      "1            893       3              Wilkes, Mrs. James (Ellen Needs)   \n",
      "2            894       2                     Myles, Mr. Thomas Francis   \n",
      "3            895       3                              Wirz, Mr. Albert   \n",
      "4            896       3  Hirvonen, Mrs. Alexander (Helga E Lindqvist)   \n",
      "..           ...     ...                                           ...   \n",
      "413         1305       3                            Spector, Mr. Woolf   \n",
      "414         1306       1                  Oliva y Ocana, Dona. Fermina   \n",
      "415         1307       3                  Saether, Mr. Simon Sivertsen   \n",
      "416         1308       3                           Ware, Mr. Frederick   \n",
      "417         1309       3                      Peter, Master. Michael J   \n",
      "\n",
      "        Sex   Age  SibSp  Parch              Ticket      Fare Cabin Embarked  \n",
      "0      male  34.5      0      0              330911    7.8292   NaN        Q  \n",
      "1    female  47.0      1      0              363272    7.0000   NaN        S  \n",
      "2      male  62.0      0      0              240276    9.6875   NaN        Q  \n",
      "3      male  27.0      0      0              315154    8.6625   NaN        S  \n",
      "4    female  22.0      1      1             3101298   12.2875   NaN        S  \n",
      "..      ...   ...    ...    ...                 ...       ...   ...      ...  \n",
      "413    male   NaN      0      0           A.5. 3236    8.0500   NaN        S  \n",
      "414  female  39.0      0      0            PC 17758  108.9000  C105        C  \n",
      "415    male  38.5      0      0  SOTON/O.Q. 3101262    7.2500   NaN        S  \n",
      "416    male   NaN      0      0              359309    8.0500   NaN        S  \n",
      "417    male   NaN      1      1                2668   22.3583   NaN        C  \n",
      "\n",
      "[418 rows x 11 columns]\n"
     ]
    }
   ],
   "source": [
    "df= pd.read_csv(r\"C:\\Users\\harshika jain\\Documents\\NetBeansProjects\\timetable\\timetable\\build\\classes\\Titanic_Survival_Prediction\\data\\test.csv\")\n",
    "print(df)"
   ]
  },
  {
   "cell_type": "code",
   "execution_count": 4,
   "metadata": {},
   "outputs": [
    {
     "name": "stdout",
     "output_type": "stream",
     "text": [
      "<class 'pandas.core.frame.DataFrame'>\n",
      "RangeIndex: 418 entries, 0 to 417\n",
      "Data columns (total 11 columns):\n",
      " #   Column       Non-Null Count  Dtype  \n",
      "---  ------       --------------  -----  \n",
      " 0   PassengerId  418 non-null    int64  \n",
      " 1   Pclass       418 non-null    int64  \n",
      " 2   Name         418 non-null    object \n",
      " 3   Sex          418 non-null    object \n",
      " 4   Age          332 non-null    float64\n",
      " 5   SibSp        418 non-null    int64  \n",
      " 6   Parch        418 non-null    int64  \n",
      " 7   Ticket       418 non-null    object \n",
      " 8   Fare         417 non-null    float64\n",
      " 9   Cabin        91 non-null     object \n",
      " 10  Embarked     418 non-null    object \n",
      "dtypes: float64(2), int64(4), object(5)\n",
      "memory usage: 36.1+ KB\n"
     ]
    }
   ],
   "source": [
    "df.info()"
   ]
  },
  {
   "cell_type": "code",
   "execution_count": 5,
   "metadata": {},
   "outputs": [
    {
     "name": "stdout",
     "output_type": "stream",
     "text": [
      "     PassengerId  Pclass                                          Name  \\\n",
      "0            892       3                              Kelly, Mr. James   \n",
      "1            893       3              Wilkes, Mrs. James (Ellen Needs)   \n",
      "2            894       2                     Myles, Mr. Thomas Francis   \n",
      "3            895       3                              Wirz, Mr. Albert   \n",
      "4            896       3  Hirvonen, Mrs. Alexander (Helga E Lindqvist)   \n",
      "..           ...     ...                                           ...   \n",
      "413         1305       3                            Spector, Mr. Woolf   \n",
      "414         1306       1                  Oliva y Ocana, Dona. Fermina   \n",
      "415         1307       3                  Saether, Mr. Simon Sivertsen   \n",
      "416         1308       3                           Ware, Mr. Frederick   \n",
      "417         1309       3                      Peter, Master. Michael J   \n",
      "\n",
      "        Sex   Age  SibSp  Parch              Ticket      Fare Cabin Embarked  \n",
      "0      male  34.5      0      0              330911    7.8292   NaN        Q  \n",
      "1    female  47.0      1      0              363272    7.0000   NaN        S  \n",
      "2      male  62.0      0      0              240276    9.6875   NaN        Q  \n",
      "3      male  27.0      0      0              315154    8.6625   NaN        S  \n",
      "4    female  22.0      1      1             3101298   12.2875   NaN        S  \n",
      "..      ...   ...    ...    ...                 ...       ...   ...      ...  \n",
      "413    male   NaN      0      0           A.5. 3236    8.0500   NaN        S  \n",
      "414  female  39.0      0      0            PC 17758  108.9000  C105        C  \n",
      "415    male  38.5      0      0  SOTON/O.Q. 3101262    7.2500   NaN        S  \n",
      "416    male   NaN      0      0              359309    8.0500   NaN        S  \n",
      "417    male   NaN      1      1                2668   22.3583   NaN        C  \n",
      "\n",
      "[418 rows x 11 columns]\n"
     ]
    }
   ],
   "source": [
    "df= pd.read_csv(r\"C:\\Users\\harshika jain\\Documents\\NetBeansProjects\\timetable\\timetable\\build\\classes\\Titanic_Survival_Prediction\\data\\test.csv\")\n",
    "print(df)"
   ]
  },
  {
   "cell_type": "markdown",
   "metadata": {},
   "source": [
    "Both datasets are missing well over 10% of the Cabin data, so I will drop this column. For the Age column, this data will likely be important so I want to keep the column. I will fill the missing volues with the mean age based on the Sex of the person. I will fill the missing Embarked values with the mode, and the missing Fare amounts with the mean per corresponding Pclass."
   ]
  },
  {
   "cell_type": "code",
   "execution_count": 6,
   "metadata": {},
   "outputs": [
    {
     "data": {
      "text/plain": [
       "0                                Kelly, Mr. James\n",
       "1                Wilkes, Mrs. James (Ellen Needs)\n",
       "2                       Myles, Mr. Thomas Francis\n",
       "3                                Wirz, Mr. Albert\n",
       "4    Hirvonen, Mrs. Alexander (Helga E Lindqvist)\n",
       "Name: Name, dtype: object"
      ]
     },
     "execution_count": 6,
     "metadata": {},
     "output_type": "execute_result"
    }
   ],
   "source": [
    "df['Name'].head()"
   ]
  },
  {
   "cell_type": "markdown",
   "metadata": {},
   "source": []
  },
  {
   "cell_type": "code",
   "execution_count": 7,
   "metadata": {},
   "outputs": [],
   "source": [
    "def clean_data(df):\n",
    "    df = df.drop(['Cabin', 'Ticket'], axis=1)\n",
    "    df['Age'] = df['Age'].fillna(df.groupby('Sex')['Age'].transform('mean'))\n",
    "    df['Embarked'] = df['Embarked'].fillna(df['Embarked'].mode()[0])\n",
    "    df['Fare'] = df['Fare'].fillna(df.groupby('Pclass')['Fare'].transform('mean'))\n",
    "                \n",
    "    return df"
   ]
  },
  {
   "cell_type": "markdown",
   "metadata": {},
   "source": [
    "There are a few additional columns I want to make as well. First, the name columns tend to have some titles associated with them which could provide info on the perceived importance or social rank of a person, which could impact their survival rate. I want to extract that title and set it as a new value in the dataframe."
   ]
  },
  {
   "cell_type": "code",
   "execution_count": 8,
   "metadata": {},
   "outputs": [],
   "source": [
    "def create_title_column(df):\n",
    "    df['Title'] = df['Name'].str.split(',').str[1].str.split('.').str[0].str.strip()\n",
    "    title_counts = df['Title'].value_counts()\n",
    "    rare_title = title_counts[title_counts < 10].index\n",
    "    df['Title'] = df['Title'].replace(rare_title, 'Other')\n",
    "    df = df.drop(['Name'], axis=1)\n",
    "    \n",
    "    return df\n"
   ]
  },
  {
   "cell_type": "markdown",
   "metadata": {},
   "source": [
    "To make information a little more generalized, I want to bin some information such as age and fare amount. I noticed that certain age ranges have higher survival rates than others, so I want to try and bin these in a way that groups people into a bin with others who have similar survival rates. For fares, I'll bin based on 3 levels of high medium and low."
   ]
  },
  {
   "cell_type": "code",
   "execution_count": 9,
   "metadata": {},
   "outputs": [],
   "source": [
    "def create_bins(df):\n",
    "    bin_range = [0, 5, 10, 15, 30, 40, 50, 60, 70, 80]  \n",
    "    labels = range(1, len(bin_range))\n",
    "    df['Age_Bin'] = pd.cut(df['Age'], bins=bin_range, labels=labels).astype(int)\n",
    "    df['Fare_Bin'] = pd.qcut(df['Fare'], q=3, labels=[1, 2, 3]).astype(int)\n",
    "\n",
    "    return df"
   ]
  },
  {
   "cell_type": "markdown",
   "metadata": {},
   "source": [
    "I also want a numerical representation of some of our categorical string variables. I will set those here:"
   ]
  },
  {
   "cell_type": "code",
   "execution_count": 10,
   "metadata": {},
   "outputs": [],
   "source": [
    "def encode_categorical_variables(df):\n",
    "    label_encoder = LabelEncoder()\n",
    "    df['Embarked_Code'] = label_encoder.fit_transform(df['Embarked'])\n",
    "    df['Sex_Code'] = label_encoder.fit_transform(df['Sex'])\n",
    "    df['Title_Code'] = label_encoder.fit_transform(df['Title'])\n",
    "    \n",
    "    return df\n"
   ]
  },
  {
   "cell_type": "markdown",
   "metadata": {},
   "source": [
    "Now let's run our dataframes through these cleaning and pre-processing functions we defined above."
   ]
  },
  {
   "cell_type": "code",
   "execution_count": 11,
   "metadata": {},
   "outputs": [
    {
     "name": "stdout",
     "output_type": "stream",
     "text": [
      "     PassengerId  Pclass                                               Name  \\\n",
      "12           904       1      Snyder, Mrs. John Pillsbury (Nelle Stevenson)   \n",
      "14           906       1  Chaffee, Mrs. Herbert Fuller (Carrie Constance...   \n",
      "24           916       1    Ryerson, Mrs. Arthur Larned (Emily Maria Borie)   \n",
      "26           918       1                       Ostby, Miss. Helene Ragnhild   \n",
      "28           920       1                            Brady, Mr. John Bertram   \n",
      "..           ...     ...                                                ...   \n",
      "404         1296       1                       Frauenthal, Mr. Isaac Gerald   \n",
      "405         1297       2       Nourney, Mr. Alfred (Baron von Drachstedt\")\"   \n",
      "407         1299       1                         Widener, Mr. George Dunton   \n",
      "411         1303       1    Minahan, Mrs. William Edward (Lillian E Thorpe)   \n",
      "414         1306       1                       Oliva y Ocana, Dona. Fermina   \n",
      "\n",
      "        Sex   Age  SibSp  Parch         Ticket      Fare            Cabin  \\\n",
      "12   female  23.0      1      0          21228   82.2667              B45   \n",
      "14   female  47.0      1      0    W.E.P. 5734   61.1750              E31   \n",
      "24   female  48.0      1      3       PC 17608  262.3750  B57 B59 B63 B66   \n",
      "26   female  22.0      0      1         113509   61.9792              B36   \n",
      "28     male  41.0      0      0         113054   30.5000              A21   \n",
      "..      ...   ...    ...    ...            ...       ...              ...   \n",
      "404    male  43.0      1      0          17765   27.7208              D40   \n",
      "405    male  20.0      0      0  SC/PARIS 2166   13.8625              D38   \n",
      "407    male  50.0      1      1         113503  211.5000              C80   \n",
      "411  female  37.0      1      0          19928   90.0000              C78   \n",
      "414  female  39.0      0      0       PC 17758  108.9000             C105   \n",
      "\n",
      "    Embarked  \n",
      "12         S  \n",
      "14         S  \n",
      "24         C  \n",
      "26         C  \n",
      "28         S  \n",
      "..       ...  \n",
      "404        C  \n",
      "405        C  \n",
      "407        C  \n",
      "411        Q  \n",
      "414        C  \n",
      "\n",
      "[87 rows x 11 columns]\n"
     ]
    }
   ],
   "source": [
    "df = df.dropna()\n",
    "print(df)"
   ]
  },
  {
   "cell_type": "markdown",
   "metadata": {},
   "source": [
    "Let's check to make sure the cleaning was done properly on both sets."
   ]
  },
  {
   "cell_type": "code",
   "execution_count": 12,
   "metadata": {},
   "outputs": [
    {
     "data": {
      "text/html": [
       "<div>\n",
       "<style scoped>\n",
       "    .dataframe tbody tr th:only-of-type {\n",
       "        vertical-align: middle;\n",
       "    }\n",
       "\n",
       "    .dataframe tbody tr th {\n",
       "        vertical-align: top;\n",
       "    }\n",
       "\n",
       "    .dataframe thead th {\n",
       "        text-align: right;\n",
       "    }\n",
       "</style>\n",
       "<table border=\"1\" class=\"dataframe\">\n",
       "  <thead>\n",
       "    <tr style=\"text-align: right;\">\n",
       "      <th></th>\n",
       "      <th>PassengerId</th>\n",
       "      <th>Pclass</th>\n",
       "      <th>Name</th>\n",
       "      <th>Sex</th>\n",
       "      <th>Age</th>\n",
       "      <th>SibSp</th>\n",
       "      <th>Parch</th>\n",
       "      <th>Ticket</th>\n",
       "      <th>Fare</th>\n",
       "      <th>Cabin</th>\n",
       "      <th>Embarked</th>\n",
       "    </tr>\n",
       "  </thead>\n",
       "  <tbody>\n",
       "    <tr>\n",
       "      <th>count</th>\n",
       "      <td>87.000000</td>\n",
       "      <td>87.000000</td>\n",
       "      <td>87</td>\n",
       "      <td>87</td>\n",
       "      <td>87.000000</td>\n",
       "      <td>87.000000</td>\n",
       "      <td>87.000000</td>\n",
       "      <td>87</td>\n",
       "      <td>87.000000</td>\n",
       "      <td>87</td>\n",
       "      <td>87</td>\n",
       "    </tr>\n",
       "    <tr>\n",
       "      <th>unique</th>\n",
       "      <td>NaN</td>\n",
       "      <td>NaN</td>\n",
       "      <td>87</td>\n",
       "      <td>2</td>\n",
       "      <td>NaN</td>\n",
       "      <td>NaN</td>\n",
       "      <td>NaN</td>\n",
       "      <td>66</td>\n",
       "      <td>NaN</td>\n",
       "      <td>72</td>\n",
       "      <td>3</td>\n",
       "    </tr>\n",
       "    <tr>\n",
       "      <th>top</th>\n",
       "      <td>NaN</td>\n",
       "      <td>NaN</td>\n",
       "      <td>Snyder, Mrs. John Pillsbury (Nelle Stevenson)</td>\n",
       "      <td>female</td>\n",
       "      <td>NaN</td>\n",
       "      <td>NaN</td>\n",
       "      <td>NaN</td>\n",
       "      <td>113503</td>\n",
       "      <td>NaN</td>\n",
       "      <td>B57 B59 B63 B66</td>\n",
       "      <td>C</td>\n",
       "    </tr>\n",
       "    <tr>\n",
       "      <th>freq</th>\n",
       "      <td>NaN</td>\n",
       "      <td>NaN</td>\n",
       "      <td>1</td>\n",
       "      <td>44</td>\n",
       "      <td>NaN</td>\n",
       "      <td>NaN</td>\n",
       "      <td>NaN</td>\n",
       "      <td>4</td>\n",
       "      <td>NaN</td>\n",
       "      <td>3</td>\n",
       "      <td>47</td>\n",
       "    </tr>\n",
       "    <tr>\n",
       "      <th>mean</th>\n",
       "      <td>1102.712644</td>\n",
       "      <td>1.137931</td>\n",
       "      <td>NaN</td>\n",
       "      <td>NaN</td>\n",
       "      <td>39.247126</td>\n",
       "      <td>0.597701</td>\n",
       "      <td>0.482759</td>\n",
       "      <td>NaN</td>\n",
       "      <td>98.109198</td>\n",
       "      <td>NaN</td>\n",
       "      <td>NaN</td>\n",
       "    </tr>\n",
       "    <tr>\n",
       "      <th>std</th>\n",
       "      <td>126.751901</td>\n",
       "      <td>0.435954</td>\n",
       "      <td>NaN</td>\n",
       "      <td>NaN</td>\n",
       "      <td>15.218730</td>\n",
       "      <td>0.637214</td>\n",
       "      <td>0.860801</td>\n",
       "      <td>NaN</td>\n",
       "      <td>88.177319</td>\n",
       "      <td>NaN</td>\n",
       "      <td>NaN</td>\n",
       "    </tr>\n",
       "    <tr>\n",
       "      <th>min</th>\n",
       "      <td>904.000000</td>\n",
       "      <td>1.000000</td>\n",
       "      <td>NaN</td>\n",
       "      <td>NaN</td>\n",
       "      <td>1.000000</td>\n",
       "      <td>0.000000</td>\n",
       "      <td>0.000000</td>\n",
       "      <td>NaN</td>\n",
       "      <td>0.000000</td>\n",
       "      <td>NaN</td>\n",
       "      <td>NaN</td>\n",
       "    </tr>\n",
       "    <tr>\n",
       "      <th>25%</th>\n",
       "      <td>986.000000</td>\n",
       "      <td>1.000000</td>\n",
       "      <td>NaN</td>\n",
       "      <td>NaN</td>\n",
       "      <td>27.000000</td>\n",
       "      <td>0.000000</td>\n",
       "      <td>0.000000</td>\n",
       "      <td>NaN</td>\n",
       "      <td>35.339600</td>\n",
       "      <td>NaN</td>\n",
       "      <td>NaN</td>\n",
       "    </tr>\n",
       "    <tr>\n",
       "      <th>50%</th>\n",
       "      <td>1094.000000</td>\n",
       "      <td>1.000000</td>\n",
       "      <td>NaN</td>\n",
       "      <td>NaN</td>\n",
       "      <td>39.000000</td>\n",
       "      <td>1.000000</td>\n",
       "      <td>0.000000</td>\n",
       "      <td>NaN</td>\n",
       "      <td>71.283300</td>\n",
       "      <td>NaN</td>\n",
       "      <td>NaN</td>\n",
       "    </tr>\n",
       "    <tr>\n",
       "      <th>75%</th>\n",
       "      <td>1216.000000</td>\n",
       "      <td>1.000000</td>\n",
       "      <td>NaN</td>\n",
       "      <td>NaN</td>\n",
       "      <td>50.000000</td>\n",
       "      <td>1.000000</td>\n",
       "      <td>1.000000</td>\n",
       "      <td>NaN</td>\n",
       "      <td>135.066650</td>\n",
       "      <td>NaN</td>\n",
       "      <td>NaN</td>\n",
       "    </tr>\n",
       "    <tr>\n",
       "      <th>max</th>\n",
       "      <td>1306.000000</td>\n",
       "      <td>3.000000</td>\n",
       "      <td>NaN</td>\n",
       "      <td>NaN</td>\n",
       "      <td>76.000000</td>\n",
       "      <td>3.000000</td>\n",
       "      <td>4.000000</td>\n",
       "      <td>NaN</td>\n",
       "      <td>512.329200</td>\n",
       "      <td>NaN</td>\n",
       "      <td>NaN</td>\n",
       "    </tr>\n",
       "  </tbody>\n",
       "</table>\n",
       "</div>"
      ],
      "text/plain": [
       "        PassengerId     Pclass                                           Name  \\\n",
       "count     87.000000  87.000000                                             87   \n",
       "unique          NaN        NaN                                             87   \n",
       "top             NaN        NaN  Snyder, Mrs. John Pillsbury (Nelle Stevenson)   \n",
       "freq            NaN        NaN                                              1   \n",
       "mean    1102.712644   1.137931                                            NaN   \n",
       "std      126.751901   0.435954                                            NaN   \n",
       "min      904.000000   1.000000                                            NaN   \n",
       "25%      986.000000   1.000000                                            NaN   \n",
       "50%     1094.000000   1.000000                                            NaN   \n",
       "75%     1216.000000   1.000000                                            NaN   \n",
       "max     1306.000000   3.000000                                            NaN   \n",
       "\n",
       "           Sex        Age      SibSp      Parch  Ticket        Fare  \\\n",
       "count       87  87.000000  87.000000  87.000000      87   87.000000   \n",
       "unique       2        NaN        NaN        NaN      66         NaN   \n",
       "top     female        NaN        NaN        NaN  113503         NaN   \n",
       "freq        44        NaN        NaN        NaN       4         NaN   \n",
       "mean       NaN  39.247126   0.597701   0.482759     NaN   98.109198   \n",
       "std        NaN  15.218730   0.637214   0.860801     NaN   88.177319   \n",
       "min        NaN   1.000000   0.000000   0.000000     NaN    0.000000   \n",
       "25%        NaN  27.000000   0.000000   0.000000     NaN   35.339600   \n",
       "50%        NaN  39.000000   1.000000   0.000000     NaN   71.283300   \n",
       "75%        NaN  50.000000   1.000000   1.000000     NaN  135.066650   \n",
       "max        NaN  76.000000   3.000000   4.000000     NaN  512.329200   \n",
       "\n",
       "                  Cabin Embarked  \n",
       "count                87       87  \n",
       "unique               72        3  \n",
       "top     B57 B59 B63 B66        C  \n",
       "freq                  3       47  \n",
       "mean                NaN      NaN  \n",
       "std                 NaN      NaN  \n",
       "min                 NaN      NaN  \n",
       "25%                 NaN      NaN  \n",
       "50%                 NaN      NaN  \n",
       "75%                 NaN      NaN  \n",
       "max                 NaN      NaN  "
      ]
     },
     "execution_count": 12,
     "metadata": {},
     "output_type": "execute_result"
    }
   ],
   "source": [
    "df.describe(include='all')"
   ]
  },
  {
   "cell_type": "code",
   "execution_count": 13,
   "metadata": {},
   "outputs": [
    {
     "name": "stdout",
     "output_type": "stream",
     "text": [
      "     PassengerId  Pclass                                               Name  \\\n",
      "12           904       1      Snyder, Mrs. John Pillsbury (Nelle Stevenson)   \n",
      "14           906       1  Chaffee, Mrs. Herbert Fuller (Carrie Constance...   \n",
      "24           916       1    Ryerson, Mrs. Arthur Larned (Emily Maria Borie)   \n",
      "26           918       1                       Ostby, Miss. Helene Ragnhild   \n",
      "28           920       1                            Brady, Mr. John Bertram   \n",
      "..           ...     ...                                                ...   \n",
      "404         1296       1                       Frauenthal, Mr. Isaac Gerald   \n",
      "405         1297       2       Nourney, Mr. Alfred (Baron von Drachstedt\")\"   \n",
      "407         1299       1                         Widener, Mr. George Dunton   \n",
      "411         1303       1    Minahan, Mrs. William Edward (Lillian E Thorpe)   \n",
      "414         1306       1                       Oliva y Ocana, Dona. Fermina   \n",
      "\n",
      "        Sex   Age  SibSp  Parch         Ticket      Fare            Cabin  \\\n",
      "12   female  23.0      1      0          21228   82.2667              B45   \n",
      "14   female  47.0      1      0    W.E.P. 5734   61.1750              E31   \n",
      "24   female  48.0      1      3       PC 17608  262.3750  B57 B59 B63 B66   \n",
      "26   female  22.0      0      1         113509   61.9792              B36   \n",
      "28     male  41.0      0      0         113054   30.5000              A21   \n",
      "..      ...   ...    ...    ...            ...       ...              ...   \n",
      "404    male  43.0      1      0          17765   27.7208              D40   \n",
      "405    male  20.0      0      0  SC/PARIS 2166   13.8625              D38   \n",
      "407    male  50.0      1      1         113503  211.5000              C80   \n",
      "411  female  37.0      1      0          19928   90.0000              C78   \n",
      "414  female  39.0      0      0       PC 17758  108.9000             C105   \n",
      "\n",
      "    Embarked  \n",
      "12         S  \n",
      "14         S  \n",
      "24         C  \n",
      "26         C  \n",
      "28         S  \n",
      "..       ...  \n",
      "404        C  \n",
      "405        C  \n",
      "407        C  \n",
      "411        Q  \n",
      "414        C  \n",
      "\n",
      "[87 rows x 11 columns]\n"
     ]
    }
   ],
   "source": [
    "df.dropna(how='all')\n",
    "print(df)"
   ]
  },
  {
   "cell_type": "code",
   "execution_count": 14,
   "metadata": {},
   "outputs": [
    {
     "data": {
      "text/html": [
       "<div>\n",
       "<style scoped>\n",
       "    .dataframe tbody tr th:only-of-type {\n",
       "        vertical-align: middle;\n",
       "    }\n",
       "\n",
       "    .dataframe tbody tr th {\n",
       "        vertical-align: top;\n",
       "    }\n",
       "\n",
       "    .dataframe thead th {\n",
       "        text-align: right;\n",
       "    }\n",
       "</style>\n",
       "<table border=\"1\" class=\"dataframe\">\n",
       "  <thead>\n",
       "    <tr style=\"text-align: right;\">\n",
       "      <th></th>\n",
       "      <th>PassengerId</th>\n",
       "      <th>Pclass</th>\n",
       "      <th>Name</th>\n",
       "      <th>Sex</th>\n",
       "      <th>Age</th>\n",
       "      <th>SibSp</th>\n",
       "      <th>Parch</th>\n",
       "      <th>Ticket</th>\n",
       "      <th>Fare</th>\n",
       "      <th>Cabin</th>\n",
       "      <th>Embarked</th>\n",
       "    </tr>\n",
       "  </thead>\n",
       "  <tbody>\n",
       "    <tr>\n",
       "      <th>12</th>\n",
       "      <td>904</td>\n",
       "      <td>1</td>\n",
       "      <td>Snyder, Mrs. John Pillsbury (Nelle Stevenson)</td>\n",
       "      <td>female</td>\n",
       "      <td>23.0</td>\n",
       "      <td>1</td>\n",
       "      <td>0</td>\n",
       "      <td>21228</td>\n",
       "      <td>82.2667</td>\n",
       "      <td>B45</td>\n",
       "      <td>S</td>\n",
       "    </tr>\n",
       "    <tr>\n",
       "      <th>14</th>\n",
       "      <td>906</td>\n",
       "      <td>1</td>\n",
       "      <td>Chaffee, Mrs. Herbert Fuller (Carrie Constance...</td>\n",
       "      <td>female</td>\n",
       "      <td>47.0</td>\n",
       "      <td>1</td>\n",
       "      <td>0</td>\n",
       "      <td>W.E.P. 5734</td>\n",
       "      <td>61.1750</td>\n",
       "      <td>E31</td>\n",
       "      <td>S</td>\n",
       "    </tr>\n",
       "    <tr>\n",
       "      <th>24</th>\n",
       "      <td>916</td>\n",
       "      <td>1</td>\n",
       "      <td>Ryerson, Mrs. Arthur Larned (Emily Maria Borie)</td>\n",
       "      <td>female</td>\n",
       "      <td>48.0</td>\n",
       "      <td>1</td>\n",
       "      <td>3</td>\n",
       "      <td>PC 17608</td>\n",
       "      <td>262.3750</td>\n",
       "      <td>B57 B59 B63 B66</td>\n",
       "      <td>C</td>\n",
       "    </tr>\n",
       "    <tr>\n",
       "      <th>26</th>\n",
       "      <td>918</td>\n",
       "      <td>1</td>\n",
       "      <td>Ostby, Miss. Helene Ragnhild</td>\n",
       "      <td>female</td>\n",
       "      <td>22.0</td>\n",
       "      <td>0</td>\n",
       "      <td>1</td>\n",
       "      <td>113509</td>\n",
       "      <td>61.9792</td>\n",
       "      <td>B36</td>\n",
       "      <td>C</td>\n",
       "    </tr>\n",
       "    <tr>\n",
       "      <th>28</th>\n",
       "      <td>920</td>\n",
       "      <td>1</td>\n",
       "      <td>Brady, Mr. John Bertram</td>\n",
       "      <td>male</td>\n",
       "      <td>41.0</td>\n",
       "      <td>0</td>\n",
       "      <td>0</td>\n",
       "      <td>113054</td>\n",
       "      <td>30.5000</td>\n",
       "      <td>A21</td>\n",
       "      <td>S</td>\n",
       "    </tr>\n",
       "  </tbody>\n",
       "</table>\n",
       "</div>"
      ],
      "text/plain": [
       "    PassengerId  Pclass                                               Name  \\\n",
       "12          904       1      Snyder, Mrs. John Pillsbury (Nelle Stevenson)   \n",
       "14          906       1  Chaffee, Mrs. Herbert Fuller (Carrie Constance...   \n",
       "24          916       1    Ryerson, Mrs. Arthur Larned (Emily Maria Borie)   \n",
       "26          918       1                       Ostby, Miss. Helene Ragnhild   \n",
       "28          920       1                            Brady, Mr. John Bertram   \n",
       "\n",
       "       Sex   Age  SibSp  Parch       Ticket      Fare            Cabin  \\\n",
       "12  female  23.0      1      0        21228   82.2667              B45   \n",
       "14  female  47.0      1      0  W.E.P. 5734   61.1750              E31   \n",
       "24  female  48.0      1      3     PC 17608  262.3750  B57 B59 B63 B66   \n",
       "26  female  22.0      0      1       113509   61.9792              B36   \n",
       "28    male  41.0      0      0       113054   30.5000              A21   \n",
       "\n",
       "   Embarked  \n",
       "12        S  \n",
       "14        S  \n",
       "24        C  \n",
       "26        C  \n",
       "28        S  "
      ]
     },
     "execution_count": 14,
     "metadata": {},
     "output_type": "execute_result"
    }
   ],
   "source": [
    "df.head()"
   ]
  },
  {
   "cell_type": "markdown",
   "metadata": {},
   "source": [
    "I want to visualize the data distribution of both datasets to check what kind of distribution the data has, but also check to see if both datasets are similar in their distribution."
   ]
  },
  {
   "cell_type": "code",
   "execution_count": 15,
   "metadata": {},
   "outputs": [
    {
     "data": {
      "image/png": "[encoded data removed]",
      "text/plain": [
       "<Figure size 1500x2000 with 12 Axes>"
      ]
     },
     "metadata": {},
     "output_type": "display_data"
    }
   ],
   "source": [
    "num_plots = len(df.columns)\n",
    "num_rows = (num_plots + 2) // 3\n",
    "fig, axes = plt.subplots(num_rows, 3, figsize=(15, 5*num_rows))\n",
    "\n",
    "for i, column in enumerate(df.columns):\n",
    "    row = i // 3\n",
    "    col = i % 3\n",
    "    ax = axes[row, col]\n",
    "    df[column].hist(ax=ax)\n",
    "    ax.set_xlabel(column)\n",
    "    ax.set_ylabel('Frequency')\n",
    "    ax.set_title(f'Histogram of {column}')\n",
    "\n",
    "plt.tight_layout()\n",
    "for ax in axes.flatten():\n",
    "    ax.grid(False)"
   ]
  },
  {
   "cell_type": "markdown",
   "metadata": {},
   "source": [
    "Now let's see how the information breaks down in terms of survival rates."
   ]
  },
  {
   "cell_type": "markdown",
   "metadata": {},
   "source": [
    "Since age seems to be a major defining factor in survival rates, I want to make additional binary columns to distinguish if a passenger was a child or an elder. "
   ]
  },
  {
   "cell_type": "code",
   "execution_count": 16,
   "metadata": {},
   "outputs": [
    {
     "data": {
      "text/html": [
       "<div>\n",
       "<style scoped>\n",
       "    .dataframe tbody tr th:only-of-type {\n",
       "        vertical-align: middle;\n",
       "    }\n",
       "\n",
       "    .dataframe tbody tr th {\n",
       "        vertical-align: top;\n",
       "    }\n",
       "\n",
       "    .dataframe thead th {\n",
       "        text-align: right;\n",
       "    }\n",
       "</style>\n",
       "<table border=\"1\" class=\"dataframe\">\n",
       "  <thead>\n",
       "    <tr style=\"text-align: right;\">\n",
       "      <th></th>\n",
       "      <th>PassengerId</th>\n",
       "      <th>Pclass</th>\n",
       "      <th>Name</th>\n",
       "      <th>Sex</th>\n",
       "      <th>Age</th>\n",
       "      <th>SibSp</th>\n",
       "      <th>Parch</th>\n",
       "      <th>Ticket</th>\n",
       "      <th>Fare</th>\n",
       "      <th>Cabin</th>\n",
       "      <th>Embarked</th>\n",
       "    </tr>\n",
       "  </thead>\n",
       "  <tbody>\n",
       "    <tr>\n",
       "      <th>12</th>\n",
       "      <td>904</td>\n",
       "      <td>1</td>\n",
       "      <td>Snyder, Mrs. John Pillsbury (Nelle Stevenson)</td>\n",
       "      <td>female</td>\n",
       "      <td>23.0</td>\n",
       "      <td>1</td>\n",
       "      <td>0</td>\n",
       "      <td>21228</td>\n",
       "      <td>82.2667</td>\n",
       "      <td>B45</td>\n",
       "      <td>S</td>\n",
       "    </tr>\n",
       "    <tr>\n",
       "      <th>14</th>\n",
       "      <td>906</td>\n",
       "      <td>1</td>\n",
       "      <td>Chaffee, Mrs. Herbert Fuller (Carrie Constance...</td>\n",
       "      <td>female</td>\n",
       "      <td>47.0</td>\n",
       "      <td>1</td>\n",
       "      <td>0</td>\n",
       "      <td>W.E.P. 5734</td>\n",
       "      <td>61.1750</td>\n",
       "      <td>E31</td>\n",
       "      <td>S</td>\n",
       "    </tr>\n",
       "    <tr>\n",
       "      <th>24</th>\n",
       "      <td>916</td>\n",
       "      <td>1</td>\n",
       "      <td>Ryerson, Mrs. Arthur Larned (Emily Maria Borie)</td>\n",
       "      <td>female</td>\n",
       "      <td>48.0</td>\n",
       "      <td>1</td>\n",
       "      <td>3</td>\n",
       "      <td>PC 17608</td>\n",
       "      <td>262.3750</td>\n",
       "      <td>B57 B59 B63 B66</td>\n",
       "      <td>C</td>\n",
       "    </tr>\n",
       "    <tr>\n",
       "      <th>26</th>\n",
       "      <td>918</td>\n",
       "      <td>1</td>\n",
       "      <td>Ostby, Miss. Helene Ragnhild</td>\n",
       "      <td>female</td>\n",
       "      <td>22.0</td>\n",
       "      <td>0</td>\n",
       "      <td>1</td>\n",
       "      <td>113509</td>\n",
       "      <td>61.9792</td>\n",
       "      <td>B36</td>\n",
       "      <td>C</td>\n",
       "    </tr>\n",
       "    <tr>\n",
       "      <th>28</th>\n",
       "      <td>920</td>\n",
       "      <td>1</td>\n",
       "      <td>Brady, Mr. John Bertram</td>\n",
       "      <td>male</td>\n",
       "      <td>41.0</td>\n",
       "      <td>0</td>\n",
       "      <td>0</td>\n",
       "      <td>113054</td>\n",
       "      <td>30.5000</td>\n",
       "      <td>A21</td>\n",
       "      <td>S</td>\n",
       "    </tr>\n",
       "  </tbody>\n",
       "</table>\n",
       "</div>"
      ],
      "text/plain": [
       "    PassengerId  Pclass                                               Name  \\\n",
       "12          904       1      Snyder, Mrs. John Pillsbury (Nelle Stevenson)   \n",
       "14          906       1  Chaffee, Mrs. Herbert Fuller (Carrie Constance...   \n",
       "24          916       1    Ryerson, Mrs. Arthur Larned (Emily Maria Borie)   \n",
       "26          918       1                       Ostby, Miss. Helene Ragnhild   \n",
       "28          920       1                            Brady, Mr. John Bertram   \n",
       "\n",
       "       Sex   Age  SibSp  Parch       Ticket      Fare            Cabin  \\\n",
       "12  female  23.0      1      0        21228   82.2667              B45   \n",
       "14  female  47.0      1      0  W.E.P. 5734   61.1750              E31   \n",
       "24  female  48.0      1      3     PC 17608  262.3750  B57 B59 B63 B66   \n",
       "26  female  22.0      0      1       113509   61.9792              B36   \n",
       "28    male  41.0      0      0       113054   30.5000              A21   \n",
       "\n",
       "   Embarked  \n",
       "12        S  \n",
       "14        S  \n",
       "24        C  \n",
       "26        C  \n",
       "28        S  "
      ]
     },
     "execution_count": 16,
     "metadata": {},
     "output_type": "execute_result"
    }
   ],
   "source": [
    "df.head()"
   ]
  },
  {
   "cell_type": "code",
   "execution_count": 17,
   "metadata": {},
   "outputs": [
    {
     "data": {
      "image/png": "[encoded data removed]",
      "text/plain": [
       "<Figure size 640x480 with 1 Axes>"
      ]
     },
     "metadata": {},
     "output_type": "display_data"
    }
   ],
   "source": [
    "sns.histplot()\n",
    "plt.show()"
   ]
  },
  {
   "cell_type": "markdown",
   "metadata": {},
   "source": [
    "We can see that survival rate appears to be much lower for those labeled as Elder's and much higher for those labeled as children. Let's use some pie charts to do some more survival rate comparisons."
   ]
  },
  {
   "cell_type": "code",
   "execution_count": 18,
   "metadata": {},
   "outputs": [
    {
     "data": {
      "text/plain": [
       "<Figure size 640x480 with 0 Axes>"
      ]
     },
     "metadata": {},
     "output_type": "display_data"
    }
   ],
   "source": [
    "plt.tight_layout()\n",
    "plt.show()"
   ]
  },
  {
   "cell_type": "code",
   "execution_count": 19,
   "metadata": {},
   "outputs": [
    {
     "data": {
      "image/png": "[encoded data removed]",
      "text/plain": [
       "<Figure size 640x480 with 1 Axes>"
      ]
     },
     "metadata": {},
     "output_type": "display_data"
    }
   ],
   "source": [
    "plt.tick_params()\n",
    "plt.show()"
   ]
  },
  {
   "cell_type": "code",
   "execution_count": 20,
   "metadata": {},
   "outputs": [
    {
     "data": {
      "text/plain": [
       "<Figure size 640x480 with 0 Axes>"
      ]
     },
     "metadata": {},
     "output_type": "display_data"
    }
   ],
   "source": [
    "plt.tight_layout()"
   ]
  },
  {
   "cell_type": "code",
   "execution_count": 21,
   "metadata": {},
   "outputs": [
    {
     "data": {
      "text/plain": [
       "<Figure size 640x480 with 0 Axes>"
      ]
     },
     "metadata": {},
     "output_type": "display_data"
    }
   ],
   "source": [
    "plt.tight_layout()\n",
    "for ax in axes.flatten():\n",
    "    ax.grid(False)"
   ]
  },
  {
   "cell_type": "code",
   "execution_count": 22,
   "metadata": {},
   "outputs": [
    {
     "data": {
      "image/png": "[encoded data removed]",
      "text/plain": [
       "<Figure size 640x480 with 1 Axes>"
      ]
     },
     "metadata": {},
     "output_type": "display_data"
    }
   ],
   "source": [
    "\n",
    "plt.plot('moving_average')\n",
    "plt.xlabel('Age')\n",
    "plt.ylabel('Death Rate (%)')\n",
    "plt.title('Death Rate per Age (Moving Average)')\n",
    "plt.show()"
   ]
  },
  {
   "cell_type": "code",
   "execution_count": 23,
   "metadata": {},
   "outputs": [
    {
     "data": {
      "text/plain": [
       "<Axes: >"
      ]
     },
     "execution_count": 23,
     "metadata": {},
     "output_type": "execute_result"
    },
    {
     "data": {
      "image/png": "[encoded data removed]",
      "text/plain": [
       "<Figure size 640x480 with 1 Axes>"
      ]
     },
     "metadata": {},
     "output_type": "display_data"
    }
   ],
   "source": [
    "sns.barplot()"
   ]
  },
  {
   "cell_type": "markdown",
   "metadata": {},
   "source": [
    "We can see that elements such as Sex, Class, Title, Age, and Parch all have impacts on survival rate. I want to explore if the size of someones guest list can be exploited further to find more insights. I'll make a column called Family size, and then corresponding Alone & Big Family binary columns to see if that provides more information."
   ]
  },
  {
   "cell_type": "code",
   "execution_count": 24,
   "metadata": {},
   "outputs": [
    {
     "data": {
      "text/plain": [
       "Index(['PassengerId', 'Pclass', 'Name', 'Sex', 'Age', 'SibSp', 'Parch',\n",
       "       'Ticket', 'Fare', 'Cabin', 'Embarked'],\n",
       "      dtype='object')"
      ]
     },
     "execution_count": 24,
     "metadata": {},
     "output_type": "execute_result"
    }
   ],
   "source": [
    "df.columns"
   ]
  },
  {
   "cell_type": "markdown",
   "metadata": {},
   "source": [
    "So we now have a good idea of the variations in survival rate based on various passenger attributes. What I want to do now is quantify that survival change as some sort of score. I'll make a new dataframe that is based on the survival rate of various columns to see if I can give people a score based on how many high risk/medium risk or low risk attributes they have."
   ]
  },
  {
   "cell_type": "code",
   "execution_count": 25,
   "metadata": {},
   "outputs": [],
   "source": [
    "df_survival_rate = df.copy()"
   ]
  },
  {
   "cell_type": "code",
   "execution_count": 26,
   "metadata": {},
   "outputs": [
    {
     "data": {
      "text/html": [
       "<div>\n",
       "<style scoped>\n",
       "    .dataframe tbody tr th:only-of-type {\n",
       "        vertical-align: middle;\n",
       "    }\n",
       "\n",
       "    .dataframe tbody tr th {\n",
       "        vertical-align: top;\n",
       "    }\n",
       "\n",
       "    .dataframe thead th {\n",
       "        text-align: right;\n",
       "    }\n",
       "</style>\n",
       "<table border=\"1\" class=\"dataframe\">\n",
       "  <thead>\n",
       "    <tr style=\"text-align: right;\">\n",
       "      <th></th>\n",
       "      <th>PassengerId</th>\n",
       "      <th>Pclass</th>\n",
       "      <th>Name</th>\n",
       "      <th>Sex</th>\n",
       "      <th>Age</th>\n",
       "      <th>SibSp</th>\n",
       "      <th>Parch</th>\n",
       "      <th>Ticket</th>\n",
       "      <th>Fare</th>\n",
       "      <th>Cabin</th>\n",
       "      <th>Embarked</th>\n",
       "    </tr>\n",
       "  </thead>\n",
       "  <tbody>\n",
       "    <tr>\n",
       "      <th>12</th>\n",
       "      <td>904</td>\n",
       "      <td>1</td>\n",
       "      <td>Snyder, Mrs. John Pillsbury (Nelle Stevenson)</td>\n",
       "      <td>female</td>\n",
       "      <td>23.0</td>\n",
       "      <td>1</td>\n",
       "      <td>0</td>\n",
       "      <td>21228</td>\n",
       "      <td>82.2667</td>\n",
       "      <td>B45</td>\n",
       "      <td>S</td>\n",
       "    </tr>\n",
       "    <tr>\n",
       "      <th>14</th>\n",
       "      <td>906</td>\n",
       "      <td>1</td>\n",
       "      <td>Chaffee, Mrs. Herbert Fuller (Carrie Constance...</td>\n",
       "      <td>female</td>\n",
       "      <td>47.0</td>\n",
       "      <td>1</td>\n",
       "      <td>0</td>\n",
       "      <td>W.E.P. 5734</td>\n",
       "      <td>61.1750</td>\n",
       "      <td>E31</td>\n",
       "      <td>S</td>\n",
       "    </tr>\n",
       "    <tr>\n",
       "      <th>24</th>\n",
       "      <td>916</td>\n",
       "      <td>1</td>\n",
       "      <td>Ryerson, Mrs. Arthur Larned (Emily Maria Borie)</td>\n",
       "      <td>female</td>\n",
       "      <td>48.0</td>\n",
       "      <td>1</td>\n",
       "      <td>3</td>\n",
       "      <td>PC 17608</td>\n",
       "      <td>262.3750</td>\n",
       "      <td>B57 B59 B63 B66</td>\n",
       "      <td>C</td>\n",
       "    </tr>\n",
       "    <tr>\n",
       "      <th>26</th>\n",
       "      <td>918</td>\n",
       "      <td>1</td>\n",
       "      <td>Ostby, Miss. Helene Ragnhild</td>\n",
       "      <td>female</td>\n",
       "      <td>22.0</td>\n",
       "      <td>0</td>\n",
       "      <td>1</td>\n",
       "      <td>113509</td>\n",
       "      <td>61.9792</td>\n",
       "      <td>B36</td>\n",
       "      <td>C</td>\n",
       "    </tr>\n",
       "    <tr>\n",
       "      <th>28</th>\n",
       "      <td>920</td>\n",
       "      <td>1</td>\n",
       "      <td>Brady, Mr. John Bertram</td>\n",
       "      <td>male</td>\n",
       "      <td>41.0</td>\n",
       "      <td>0</td>\n",
       "      <td>0</td>\n",
       "      <td>113054</td>\n",
       "      <td>30.5000</td>\n",
       "      <td>A21</td>\n",
       "      <td>S</td>\n",
       "    </tr>\n",
       "  </tbody>\n",
       "</table>\n",
       "</div>"
      ],
      "text/plain": [
       "    PassengerId  Pclass                                               Name  \\\n",
       "12          904       1      Snyder, Mrs. John Pillsbury (Nelle Stevenson)   \n",
       "14          906       1  Chaffee, Mrs. Herbert Fuller (Carrie Constance...   \n",
       "24          916       1    Ryerson, Mrs. Arthur Larned (Emily Maria Borie)   \n",
       "26          918       1                       Ostby, Miss. Helene Ragnhild   \n",
       "28          920       1                            Brady, Mr. John Bertram   \n",
       "\n",
       "       Sex   Age  SibSp  Parch       Ticket      Fare            Cabin  \\\n",
       "12  female  23.0      1      0        21228   82.2667              B45   \n",
       "14  female  47.0      1      0  W.E.P. 5734   61.1750              E31   \n",
       "24  female  48.0      1      3     PC 17608  262.3750  B57 B59 B63 B66   \n",
       "26  female  22.0      0      1       113509   61.9792              B36   \n",
       "28    male  41.0      0      0       113054   30.5000              A21   \n",
       "\n",
       "   Embarked  \n",
       "12        S  \n",
       "14        S  \n",
       "24        C  \n",
       "26        C  \n",
       "28        S  "
      ]
     },
     "execution_count": 26,
     "metadata": {},
     "output_type": "execute_result"
    }
   ],
   "source": [
    "df_survival_rate.head()"
   ]
  },
  {
   "cell_type": "markdown",
   "metadata": {},
   "source": [
    "Great, so we now have 4 survival levels for some key columns (1 for low survival rate, 4 for high). Let's use this info to decide how to add some survival scores to our main dataframe."
   ]
  },
  {
   "cell_type": "code",
   "execution_count": 27,
   "metadata": {},
   "outputs": [
    {
     "data": {
      "image/png": "[encoded data removed]",
      "text/plain": [
       "<Figure size 1800x800 with 6 Axes>"
      ]
     },
     "metadata": {},
     "output_type": "display_data"
    }
   ],
   "source": [
    "fig, axes = plt.subplots(2, 3, figsize=(18, 8))\n",
    "plt.tight_layout()\n",
    "\n"
   ]
  },
  {
   "cell_type": "markdown",
   "metadata": {},
   "source": [
    "Based on these visuals, I can apply a score to different values in those columns. For instance, someone in first class can have a 3 survival score since they are most likely to survive amongst that variable. I'll aim for 3 levels per variable, however for extreme discrepencies, I may keep all 4 survival levels for certain columns."
   ]
  },
  {
   "cell_type": "markdown",
   "metadata": {},
   "source": [
    "Mapping the column values to their respective survival level."
   ]
  },
  {
   "cell_type": "code",
   "execution_count": 28,
   "metadata": {},
   "outputs": [],
   "source": [
    "def add_survival_levels(df):\n",
    "    df['Survival_Level_Pclass'] = df['Pclass'].map({1: 3, 2: 2, 3: 1}).astype(int)\n",
    "    df['Survival_Level_Sex'] = df['Sex'].map({'male': 1, 'female': 3}).astype(int)\n",
    "    df['Survival_Level_Title'] = df['Title'].map({'Mr': 1, 'Mrs': 4, 'Miss': 4, 'Master': 3, 'Other': 2}).astype(int)\n",
    "    df['Survival_Level_Age_Bin'] = df['Age_Bin'].map({1: 4, 2: 2, 3: 4, 4: 2, 5: 1, 6: 2, 7: 2, 8: 1, 9: 1}).astype(int)\n",
    "    df['Survival_Level_Fare_Bin'] = df['Fare_Bin'].map({1: 1, 2: 2, 3: 3}).astype(int)\n",
    "    df['Survival_Level_Embarked'] = df['Embarked'].map({'S': 1, 'C': 3, 'Q': 1}).astype(int)\n",
    "    df['Survival_Level_Family'] = df['Family_Category'].map({'Medium': 3, 'Large': 3, 'Alone': 2, 'Small': 1}).astype(int)\n",
    "\n",
    "    df['Survival_Level_Sum'] = df[['Survival_Level_Pclass', 'Survival_Level_Sex', 'Survival_Level_Title', 'Survival_Level_Age_Bin', 'Survival_Level_Fare_Bin', 'Survival_Level_Embarked', 'Survival_Level_Family']].sum(axis=1)\n",
    "    return df\n"
   ]
  },
  {
   "cell_type": "markdown",
   "metadata": {},
   "source": [
    "Drop the uneeded extra columns."
   ]
  },
  {
   "cell_type": "code",
   "execution_count": 29,
   "metadata": {},
   "outputs": [
    {
     "data": {
      "text/html": [
       "<div>\n",
       "<style scoped>\n",
       "    .dataframe tbody tr th:only-of-type {\n",
       "        vertical-align: middle;\n",
       "    }\n",
       "\n",
       "    .dataframe tbody tr th {\n",
       "        vertical-align: top;\n",
       "    }\n",
       "\n",
       "    .dataframe thead th {\n",
       "        text-align: right;\n",
       "    }\n",
       "</style>\n",
       "<table border=\"1\" class=\"dataframe\">\n",
       "  <thead>\n",
       "    <tr style=\"text-align: right;\">\n",
       "      <th></th>\n",
       "      <th>PassengerId</th>\n",
       "      <th>Pclass</th>\n",
       "      <th>Name</th>\n",
       "      <th>Sex</th>\n",
       "      <th>Age</th>\n",
       "      <th>SibSp</th>\n",
       "      <th>Parch</th>\n",
       "      <th>Ticket</th>\n",
       "      <th>Fare</th>\n",
       "      <th>Cabin</th>\n",
       "      <th>Embarked</th>\n",
       "    </tr>\n",
       "  </thead>\n",
       "  <tbody>\n",
       "    <tr>\n",
       "      <th>12</th>\n",
       "      <td>904</td>\n",
       "      <td>1</td>\n",
       "      <td>Snyder, Mrs. John Pillsbury (Nelle Stevenson)</td>\n",
       "      <td>female</td>\n",
       "      <td>23.0</td>\n",
       "      <td>1</td>\n",
       "      <td>0</td>\n",
       "      <td>21228</td>\n",
       "      <td>82.2667</td>\n",
       "      <td>B45</td>\n",
       "      <td>S</td>\n",
       "    </tr>\n",
       "    <tr>\n",
       "      <th>14</th>\n",
       "      <td>906</td>\n",
       "      <td>1</td>\n",
       "      <td>Chaffee, Mrs. Herbert Fuller (Carrie Constance...</td>\n",
       "      <td>female</td>\n",
       "      <td>47.0</td>\n",
       "      <td>1</td>\n",
       "      <td>0</td>\n",
       "      <td>W.E.P. 5734</td>\n",
       "      <td>61.1750</td>\n",
       "      <td>E31</td>\n",
       "      <td>S</td>\n",
       "    </tr>\n",
       "    <tr>\n",
       "      <th>24</th>\n",
       "      <td>916</td>\n",
       "      <td>1</td>\n",
       "      <td>Ryerson, Mrs. Arthur Larned (Emily Maria Borie)</td>\n",
       "      <td>female</td>\n",
       "      <td>48.0</td>\n",
       "      <td>1</td>\n",
       "      <td>3</td>\n",
       "      <td>PC 17608</td>\n",
       "      <td>262.3750</td>\n",
       "      <td>B57 B59 B63 B66</td>\n",
       "      <td>C</td>\n",
       "    </tr>\n",
       "    <tr>\n",
       "      <th>26</th>\n",
       "      <td>918</td>\n",
       "      <td>1</td>\n",
       "      <td>Ostby, Miss. Helene Ragnhild</td>\n",
       "      <td>female</td>\n",
       "      <td>22.0</td>\n",
       "      <td>0</td>\n",
       "      <td>1</td>\n",
       "      <td>113509</td>\n",
       "      <td>61.9792</td>\n",
       "      <td>B36</td>\n",
       "      <td>C</td>\n",
       "    </tr>\n",
       "    <tr>\n",
       "      <th>28</th>\n",
       "      <td>920</td>\n",
       "      <td>1</td>\n",
       "      <td>Brady, Mr. John Bertram</td>\n",
       "      <td>male</td>\n",
       "      <td>41.0</td>\n",
       "      <td>0</td>\n",
       "      <td>0</td>\n",
       "      <td>113054</td>\n",
       "      <td>30.5000</td>\n",
       "      <td>A21</td>\n",
       "      <td>S</td>\n",
       "    </tr>\n",
       "  </tbody>\n",
       "</table>\n",
       "</div>"
      ],
      "text/plain": [
       "    PassengerId  Pclass                                               Name  \\\n",
       "12          904       1      Snyder, Mrs. John Pillsbury (Nelle Stevenson)   \n",
       "14          906       1  Chaffee, Mrs. Herbert Fuller (Carrie Constance...   \n",
       "24          916       1    Ryerson, Mrs. Arthur Larned (Emily Maria Borie)   \n",
       "26          918       1                       Ostby, Miss. Helene Ragnhild   \n",
       "28          920       1                            Brady, Mr. John Bertram   \n",
       "\n",
       "       Sex   Age  SibSp  Parch       Ticket      Fare            Cabin  \\\n",
       "12  female  23.0      1      0        21228   82.2667              B45   \n",
       "14  female  47.0      1      0  W.E.P. 5734   61.1750              E31   \n",
       "24  female  48.0      1      3     PC 17608  262.3750  B57 B59 B63 B66   \n",
       "26  female  22.0      0      1       113509   61.9792              B36   \n",
       "28    male  41.0      0      0       113054   30.5000              A21   \n",
       "\n",
       "   Embarked  \n",
       "12        S  \n",
       "14        S  \n",
       "24        C  \n",
       "26        C  \n",
       "28        S  "
      ]
     },
     "execution_count": 29,
     "metadata": {},
     "output_type": "execute_result"
    }
   ],
   "source": [
    "df.head()"
   ]
  },
  {
   "cell_type": "code",
   "execution_count": 30,
   "metadata": {},
   "outputs": [
    {
     "data": {
      "image/png": "[encoded data removed]",
      "text/plain": [
       "<Figure size 1600x800 with 6 Axes>"
      ]
     },
     "metadata": {},
     "output_type": "display_data"
    }
   ],
   "source": [
    "fig, axes = plt.subplots(2, 3, figsize=(16, 8))\n",
    "plt.tight_layout()\n"
   ]
  },
  {
   "cell_type": "markdown",
   "metadata": {},
   "source": [
    "Let's see if we can bin the survival level sum to a smaller number of categories to better generalize the data. Let's review the survival rates per level to see what binning makes the most sense."
   ]
  },
  {
   "cell_type": "markdown",
   "metadata": {},
   "source": [
    "Now let's review what the correlation is between our variables and survival to start determining which columns to use in our models."
   ]
  },
  {
   "cell_type": "code",
   "execution_count": 31,
   "metadata": {},
   "outputs": [],
   "source": [
    "plt.show()"
   ]
  },
  {
   "cell_type": "markdown",
   "metadata": {},
   "source": [
    "I'm also going to check the feature importance using a decision tree model to further review the impact features have on the Survival outcome prediction."
   ]
  },
  {
   "cell_type": "markdown",
   "metadata": {},
   "source": [
    "I'll mainly try a different variation of these features to see which has the best results with the models."
   ]
  },
  {
   "cell_type": "code",
   "execution_count": 32,
   "metadata": {},
   "outputs": [],
   "source": [
    "cat_columns = ['Survival_Chance', 'Sex_Code', 'Pclass', 'Age_Bin', 'Title_Code', 'Family_Category', 'Fare_Bin', 'Embarked_Code', 'Alone', 'Child', 'Elder']\n",
    "num_columns = ['Age*Class*Sex']\n",
    "target = 'Survived'"
   ]
  },
  {
   "cell_type": "markdown",
   "metadata": {},
   "source": [
    "**Linear Model: Logistic Regression**"
   ]
  },
  {
   "cell_type": "code",
   "execution_count": 33,
   "metadata": {},
   "outputs": [
    {
     "ename": "NameError",
     "evalue": "name 'GridSearchCV' is not defined",
     "output_type": "error",
     "traceback": [
      "\u001b[1;31m---------------------------------------------------------------------------\u001b[0m",
      "\u001b[1;31mNameError\u001b[0m                                 Traceback (most recent call last)",
      "Cell \u001b[1;32mIn[33], line 3\u001b[0m\n\u001b[0;32m      1\u001b[0m param_grid \u001b[38;5;241m=\u001b[39m {\u001b[38;5;124m'\u001b[39m\u001b[38;5;124mC\u001b[39m\u001b[38;5;124m'\u001b[39m: [\u001b[38;5;241m0.1\u001b[39m, \u001b[38;5;241m1\u001b[39m, \u001b[38;5;241m10\u001b[39m, \u001b[38;5;241m100\u001b[39m], \u001b[38;5;124m'\u001b[39m\u001b[38;5;124mmax_iter\u001b[39m\u001b[38;5;124m'\u001b[39m: [\u001b[38;5;241m5000\u001b[39m, \u001b[38;5;241m10000\u001b[39m]}\n\u001b[1;32m----> 3\u001b[0m grid_search \u001b[38;5;241m=\u001b[39m \u001b[43mGridSearchCV\u001b[49m(LogisticRegression(), param_grid, cv\u001b[38;5;241m=\u001b[39m\u001b[38;5;241m10\u001b[39m, scoring\u001b[38;5;241m=\u001b[39m\u001b[38;5;124m'\u001b[39m\u001b[38;5;124maccuracy\u001b[39m\u001b[38;5;124m'\u001b[39m)\n\u001b[0;32m      4\u001b[0m grid_search\u001b[38;5;241m.\u001b[39mfit(X_train_transformed, y_train_temp)\n\u001b[0;32m      6\u001b[0m best_params \u001b[38;5;241m=\u001b[39m grid_search\u001b[38;5;241m.\u001b[39mbest_params_\n",
      "\u001b[1;31mNameError\u001b[0m: name 'GridSearchCV' is not defined"
     ]
    }
   ],
   "source": [
    "param_grid = {'C': [0.1, 1, 10, 100], 'max_iter': [5000, 10000]}\n",
    "\n",
    "grid_search = GridSearchCV(LogisticRegression(), param_grid, cv=10, scoring='accuracy')\n",
    "grid_search.fit(X_train_transformed, y_train_temp)\n",
    "\n",
    "best_params = grid_search.best_params_\n",
    "print(\"Best parameters found:\", best_params)\n",
    "print(\"\\n\")\n",
    "\n",
    "\n",
    "best_logistic_model = grid_search.best_estimator_\n",
    "\n",
    "logistic_predict_test = best_logistic_model.predict(X_test_transformed)\n",
    "logistic_accuracy_score_test = accuracy_score(y_test, logistic_predict_test)\n",
    "logistic_f1_score_test = f1_score(y_test, logistic_predict_test)\n",
    "logistic_auc_score_test = roc_auc_score(y_test, logistic_predict_test)\n",
    "\n",
    "logistic_predict_valid = best_logistic_model.predict(X_valid_transformed)\n",
    "logistic_accuracy_score_valid = accuracy_score(y_valid, logistic_predict_valid)\n",
    "logistic_f1_score_valid = f1_score(y_valid, logistic_predict_valid)\n",
    "logistic_auc_score_valid = roc_auc_score(y_valid, logistic_predict_valid)\n",
    "\n",
    "logistic_report_test = classification_report(y_test, logistic_predict_test)\n",
    "logistic_report_valid = classification_report(y_valid, logistic_predict_valid)\n",
    "\n",
    "print(\"Classification Report - Test Data:\")\n",
    "print(logistic_report_test)\n",
    "\n",
    "print(\"Classification Report - Validation Data:\")\n",
    "print(logistic_report_valid)"
   ]
  },
  {
   "cell_type": "markdown",
   "metadata": {},
   "source": [
    "**Non-Linear Model: Decision Tree**"
   ]
  },
  {
   "cell_type": "code",
   "execution_count": null,
   "metadata": {},
   "outputs": [
    {
     "name": "stdout",
     "output_type": "stream",
     "text": [
      "Best parameters found: {'criterion': 'gini', 'max_depth': 3, 'min_samples_leaf': 1, 'min_samples_split': 2}\n",
      "\n",
      "\n",
      "Classification Report - Test Data:\n",
      "              precision    recall  f1-score   support\n",
      "\n",
      "           0       0.83      0.86      0.85        70\n",
      "           1       0.84      0.81      0.83        64\n",
      "\n",
      "    accuracy                           0.84       134\n",
      "   macro avg       0.84      0.83      0.84       134\n",
      "weighted avg       0.84      0.84      0.84       134\n",
      "\n",
      "Classification Report - Validation Data:\n",
      "              precision    recall  f1-score   support\n",
      "\n",
      "           0       0.85      0.85      0.85        87\n",
      "           1       0.72      0.72      0.72        47\n",
      "\n",
      "    accuracy                           0.81       134\n",
      "   macro avg       0.79      0.79      0.79       134\n",
      "weighted avg       0.81      0.81      0.81       134\n",
      "\n"
     ]
    }
   ],
   "source": [
    "param_grid = {'criterion': ['gini', 'entropy'],'max_depth': [3, 5, 7, None],'min_samples_split': [2, 5, 10],'min_samples_leaf': [1, 2, 4]}\n",
    "\n",
    "decision_tree = DecisionTreeClassifier()\n",
    "\n",
    "grid_search = GridSearchCV(decision_tree, param_grid, cv=10, scoring='accuracy')\n",
    "grid_search.fit(X_train_transformed, y_train_temp)\n",
    "\n",
    "best_params = grid_search.best_params_\n",
    "print(\"Best parameters found:\", best_params)\n",
    "print(\"\\n\")\n",
    "\n",
    "best_dt_model = DecisionTreeClassifier(**best_params)\n",
    "\n",
    "best_dt_model.fit(X_train_transformed, y_train_temp)\n",
    "\n",
    "dt_predictions = best_dt_model.predict(X_test_transformed)\n",
    "dt_accuracy_score_test = metrics.accuracy_score(y_test, dt_predictions)\n",
    "dt_f1_score_test = f1_score(y_test, dt_predictions)\n",
    "dt_auc_score_test = roc_auc_score(y_test, dt_predictions)\n",
    "\n",
    "dt_predictions_valid = best_dt_model.predict(X_valid_transformed)\n",
    "dt_accuracy_score_valid =  metrics.accuracy_score(y_valid, dt_predictions_valid)\n",
    "dt_f1_score_valid = f1_score(y_valid, dt_predictions_valid)\n",
    "dt_auc_score_valid = roc_auc_score(y_valid, dt_predictions_valid)\n",
    "\n",
    "dt_report_test = classification_report(y_test, dt_predictions)\n",
    "dt_report_valid = classification_report(y_valid, dt_predictions_valid)\n",
    "\n",
    "print(\"Classification Report - Test Data:\")\n",
    "print(dt_report_test)\n",
    "\n",
    "print(\"Classification Report - Validation Data:\")\n",
    "print(dt_report_valid)\n",
    "\n"
   ]
  },
  {
   "cell_type": "markdown",
   "metadata": {},
   "source": [
    "**Non-Linear Model: Random Forest**"
   ]
  },
  {
   "cell_type": "code",
   "execution_count": null,
   "metadata": {},
   "outputs": [
    {
     "name": "stdout",
     "output_type": "stream",
     "text": [
      "Best parameters found: {'criterion': 'entropy', 'max_depth': 7, 'min_samples_leaf': 1, 'min_samples_split': 5, 'n_estimators': 50}\n",
      "\n",
      "\n",
      "Classification Report - Test Data:\n",
      "              precision    recall  f1-score   support\n",
      "\n",
      "           0       0.80      0.91      0.85        70\n",
      "           1       0.89      0.75      0.81        64\n",
      "\n",
      "    accuracy                           0.84       134\n",
      "   macro avg       0.84      0.83      0.83       134\n",
      "weighted avg       0.84      0.84      0.83       134\n",
      "\n",
      "Classification Report - Validation Data:\n",
      "              precision    recall  f1-score   support\n",
      "\n",
      "           0       0.83      0.91      0.87        87\n",
      "           1       0.79      0.66      0.72        47\n",
      "\n",
      "    accuracy                           0.82       134\n",
      "   macro avg       0.81      0.78      0.79       134\n",
      "weighted avg       0.82      0.82      0.82       134\n",
      "\n"
     ]
    }
   ],
   "source": [
    "param_grid = {'criterion': ['gini', 'entropy'],'max_depth': [3, 5, 7, None],'min_samples_split': [2, 5, 10],'min_samples_leaf': [1, 2, 4, 8],'n_estimators': [10, 50, 100, 200]}\n",
    "\n",
    "rf_model = RandomForestClassifier()\n",
    "\n",
    "grid_search = GridSearchCV(rf_model, param_grid, cv=10, scoring='accuracy')\n",
    "grid_search.fit(X_train_transformed, y_train_temp)\n",
    "\n",
    "best_params = grid_search.best_params_\n",
    "print(\"Best parameters found:\", best_params)\n",
    "print(\"\\n\")\n",
    "\n",
    "\n",
    "best_rf_model = grid_search.best_estimator_ \n",
    "\n",
    "rf_predictions_test = best_rf_model.predict(X_test_transformed)\n",
    "rf_accuracy_score_test = accuracy_score(y_test, rf_predictions_test)\n",
    "rf_f1_score_test = f1_score(y_test, rf_predictions_test)\n",
    "rf_auc_score_test = roc_auc_score(y_test, rf_predictions_test)\n",
    "\n",
    "rf_predictions_valid = best_rf_model.predict(X_valid_transformed)\n",
    "rf_accuracy_score_valid = accuracy_score(y_valid, rf_predictions_valid)\n",
    "rf_f1_score_valid = f1_score(y_valid, rf_predictions_valid)\n",
    "rf_auc_score_valid = roc_auc_score(y_valid, rf_predictions_valid)\n",
    "\n",
    "rf_report_test = classification_report(y_test, rf_predictions_test)\n",
    "rf_report_valid = classification_report(y_valid, rf_predictions_valid)\n",
    "\n",
    "print(\"Classification Report - Test Data:\")\n",
    "print(rf_report_test)\n",
    "\n",
    "print(\"Classification Report - Validation Data:\")\n",
    "print(rf_report_valid)"
   ]
  },
  {
   "cell_type": "markdown",
   "metadata": {},
   "source": [
    "**Boosting Model: XGBoost**"
   ]
  },
  {
   "cell_type": "code",
   "execution_count": null,
   "metadata": {},
   "outputs": [
    {
     "name": "stdout",
     "output_type": "stream",
     "text": [
      "Best Parameters: {'learning_rate': 0.01, 'max_depth': 3, 'n_estimators': 300}\n",
      "\n",
      "\n",
      "Classification Report - Test Data:\n",
      "              precision    recall  f1-score   support\n",
      "\n",
      "           0       0.79      0.90      0.84        70\n",
      "           1       0.87      0.73      0.80        64\n",
      "\n",
      "    accuracy                           0.82       134\n",
      "   macro avg       0.83      0.82      0.82       134\n",
      "weighted avg       0.83      0.82      0.82       134\n",
      "\n",
      "Classification Report - Validation Data:\n",
      "              precision    recall  f1-score   support\n",
      "\n",
      "           0       0.83      0.90      0.86        87\n",
      "           1       0.78      0.66      0.71        47\n",
      "\n",
      "    accuracy                           0.81       134\n",
      "   macro avg       0.80      0.78      0.79       134\n",
      "weighted avg       0.81      0.81      0.81       134\n",
      "\n"
     ]
    }
   ],
   "source": [
    "param_grid = {'n_estimators': [100, 200, 300], 'max_depth': [3, 5, 7], 'learning_rate': [0.01, 0.1, 0.01, 0.001]}\n",
    "\n",
    "xgb_model = xgb.XGBClassifier()\n",
    "\n",
    "grid_search = GridSearchCV(estimator=xgb_model, param_grid=param_grid, cv=10, scoring='accuracy')\n",
    "grid_search.fit(X_train_transformed, y_train_temp)\n",
    "\n",
    "\n",
    "best_params = grid_search.best_params_\n",
    "print(\"Best Parameters:\", best_params)\n",
    "print(\"\\n\")\n",
    "\n",
    "best_xgb_model = grid_search.best_estimator_\n",
    "\n",
    "xgb_predict_test = best_xgb_model.predict(X_test_transformed)\n",
    "xgb_accuracy_score_test = metrics.accuracy_score(y_test, xgb_predict_test)\n",
    "xgb_f1_score_test = f1_score(y_test, xgb_predict_test)\n",
    "xgb_auc_score_test = roc_auc_score(y_test, xgb_predict_test)\n",
    "\n",
    "xgb_predict_valid = best_xgb_model.predict(X_valid_transformed)\n",
    "xgb_accuracy_score_valid =  metrics.accuracy_score(y_valid, xgb_predict_valid)\n",
    "xgb_f1_score_valid = f1_score(y_valid, xgb_predict_valid)\n",
    "xgb_auc_score_valid = roc_auc_score(y_valid, xgb_predict_valid)\n",
    "\n",
    "xgb_report_test = classification_report(y_test, xgb_predict_test)\n",
    "xgb_report_valid = classification_report(y_valid, xgb_predict_valid)\n",
    "\n",
    "print(\"Classification Report - Test Data:\")\n",
    "print(xgb_report_test)\n",
    "\n",
    "print(\"Classification Report - Validation Data:\")\n",
    "print(xgb_report_valid)"
   ]
  },
  {
   "cell_type": "code",
   "execution_count": null,
   "metadata": {},
   "outputs": [
    {
     "name": "stdout",
     "output_type": "stream",
     "text": [
      "Data description\n",
      "----------------\n",
      "Number of examples\n",
      "train: 623\n",
      "valid: 134\n",
      "test: 134\n",
      "\n",
      "\n",
      "Number of features: 12\n",
      "\n",
      "Number of examples per class\n",
      "class 0 - train: 392\n",
      "class 1 - train: 231\n",
      "\n",
      "\n",
      "class 0 - valid: 87\n",
      "class 1 - valid: 47\n",
      "\n",
      "\n",
      "class 0 - test: 70\n",
      "class 1 - test: 64\n"
     ]
    }
   ],
   "source": [
    "print(\"Data description\")\n",
    "print(\"----------------\")\n",
    "print(\"Number of examples\")\n",
    "print(f\"train: {len(X_train_temp)}\")\n",
    "print(f\"valid: {len(X_valid)}\")\n",
    "print(f\"test: {len(X_test)}\")\n",
    "print(\"\\n\")\n",
    "print(f\"Number of features: {X_train_temp.shape[1]}\")\n",
    "\n",
    "print(\"\\nNumber of examples per class\")\n",
    "print(f\"class 0 - train: {sum(y_train_temp == 0)}\")\n",
    "print(f\"class 1 - train: {sum(y_train_temp == 1)}\")\n",
    "print(\"\\n\")\n",
    "print(f\"class 0 - valid: {sum(y_valid == 0)}\")\n",
    "print(f\"class 1 - valid: {sum(y_valid == 1)}\")\n",
    "print(\"\\n\")\n",
    "print(f\"class 0 - test: {sum(y_test == 0)}\")\n",
    "print(f\"class 1 - test: {sum(y_test == 1)}\")"
   ]
  },
  {
   "cell_type": "code",
   "execution_count": null,
   "metadata": {},
   "outputs": [
    {
     "name": "stdout",
     "output_type": "stream",
     "text": [
      "\n",
      "Descriptive statistics\n",
      "----------------------\n",
      "\n",
      "\n",
      "Training dataset:\n",
      "-----------------\n",
      "Survival_Chance\n",
      "  Mean: 1.8812199036918138, Median: 2.0, Standard Deviation: 0.9993649694880555\n",
      "Sex_Code\n",
      "  Mean: 0.6581059390048154, Median: 1.0, Standard Deviation: 0.4747254495226463\n",
      "Pclass\n",
      "  Mean: 2.3418940609951844, Median: 3.0, Standard Deviation: 0.81994487012546\n",
      "Age_Bin\n",
      "  Mean: 4.497592295345104, Median: 4.0, Standard Deviation: 1.3725292847033157\n",
      "Title_Code\n",
      "  Mean: 1.8860353130016052, Median: 2.0, Standard Deviation: 0.7927611675955439\n",
      "Fare_Bin\n",
      "  Mean: 1.9775280898876404, Median: 2.0, Standard Deviation: 0.8174989240171361\n",
      "Embarked_Code\n",
      "  Mean: 1.5585874799357946, Median: 2.0, Standard Deviation: 0.7750236558803775\n",
      "Alone\n",
      "  Mean: 0.5971107544141252, Median: 1.0, Standard Deviation: 0.490872966320433\n",
      "Child\n",
      "  Mean: 0.10272873194221509, Median: 0.0, Standard Deviation: 0.303848205131399\n",
      "Elder\n",
      "  Mean: 0.016051364365971106, Median: 0.0, Standard Deviation: 0.12577404302022416\n",
      "Age*Class*Sex\n",
      "  Mean: 111.6774535411136, Median: 96.0, Standard Deviation: 70.66347937174706\n",
      "\n",
      "\n",
      "Validation dataset:\n",
      "-----------------\n",
      "Survival_Chance\n",
      "  Mean: 1.955223880597015, Median: 2.0, Standard Deviation: 0.9952191857556334\n",
      "Sex_Code\n",
      "  Mean: 0.6492537313432836, Median: 1.0, Standard Deviation: 0.47899428923663667\n",
      "Pclass\n",
      "  Mean: 2.1791044776119404, Median: 2.5, Standard Deviation: 0.8914864352250833\n",
      "Age_Bin\n",
      "  Mean: 4.7835820895522385, Median: 5.0, Standard Deviation: 1.3620083595213826\n",
      "Title_Code\n",
      "  Mean: 1.955223880597015, Median: 2.0, Standard Deviation: 0.7644908044588379\n",
      "Fare_Bin\n",
      "  Mean: 2.0597014925373136, Median: 2.0, Standard Deviation: 0.847474745380596\n",
      "Embarked_Code\n",
      "  Mean: 1.4776119402985075, Median: 2.0, Standard Deviation: 0.8470773984436732\n",
      "Alone\n",
      "  Mean: 0.6268656716417911, Median: 1.0, Standard Deviation: 0.48545214628375105\n",
      "Child\n",
      "  Mean: 0.04477611940298507, Median: 0.0, Standard Deviation: 0.20758806960775553\n",
      "Elder\n",
      "  Mean: 0.05223880597014925, Median: 0.0, Standard Deviation: 0.22334316221195186\n",
      "Age*Class*Sex\n",
      "  Mean: 107.6065166403652, Median: 102.0, Standard Deviation: 61.17289143503399\n",
      "\n",
      "\n",
      "Test dataset:\n",
      "-----------------\n",
      "Survival_Chance\n",
      "  Mean: 2.029850746268657, Median: 2.0, Standard Deviation: 1.0401004759696155\n",
      "Sex_Code\n",
      "  Mean: 0.5970149253731343, Median: 1.0, Standard Deviation: 0.4923383362785629\n",
      "Pclass\n",
      "  Mean: 2.283582089552239, Median: 3.0, Standard Deviation: 0.8461495299562749\n",
      "Age_Bin\n",
      "  Mean: 4.477611940298507, Median: 4.0, Standard Deviation: 1.2488576308418813\n",
      "Title_Code\n",
      "  Mean: 1.955223880597015, Median: 2.0, Standard Deviation: 0.8572176677785783\n",
      "Fare_Bin\n",
      "  Mean: 1.9477611940298507, Median: 2.0, Standard Deviation: 0.8255065811217106\n",
      "Embarked_Code\n",
      "  Mean: 1.492537313432836, Median: 2.0, Standard Deviation: 0.8110725161271266\n",
      "Alone\n",
      "  Mean: 0.6044776119402985, Median: 1.0, Standard Deviation: 0.49079736743994823\n",
      "Child\n",
      "  Mean: 0.09701492537313433, Median: 0.0, Standard Deviation: 0.29708870564812556\n",
      "Elder\n",
      "  Mean: 0.03731343283582089, Median: 0.0, Standard Deviation: 0.190239912556436\n",
      "Age*Class*Sex\n",
      "  Mean: 106.0570340805677, Median: 83.87356321839081, Standard Deviation: 69.28617407635525\n",
      "\n",
      "\n"
     ]
    }
   ],
   "source": [
    "print(\"\\nDescriptive statistics\")\n",
    "print(\"----------------------\")\n",
    "print(\"\\n\")\n",
    "\n",
    "train_stats = X_train_temp.describe().transpose()\n",
    "valid_stats = X_valid.describe().transpose()\n",
    "test_stats = X_test.describe().transpose()\n",
    "\n",
    "for dataset_name, dataset_stats in zip(['Training', 'Validation', 'Test'], [train_stats, valid_stats, test_stats]):\n",
    "    print(f\"{dataset_name} dataset:\")\n",
    "    print(\"-----------------\")\n",
    "    for column_name, stats in dataset_stats.iterrows():\n",
    "        print(column_name)\n",
    "        print(f\"  Mean: {stats['mean']}, Median: {stats['50%']}, Standard Deviation: {stats['std']}\")\n",
    "    print(\"\\n\")"
   ]
  },
  {
   "cell_type": "code",
   "execution_count": null,
   "metadata": {},
   "outputs": [
    {
     "name": "stdout",
     "output_type": "stream",
     "text": [
      "\n",
      "Model Validation Results\n",
      "\n",
      "\n",
      "Model 1: Logistic Regression\n",
      "----------------------------------\n",
      "Accuracy - Validation: 0.8208955223880597\n",
      "F1 Score - Validation: 0.7272727272727273\n",
      "AUC Score - Validation: 0.7887013939838592\n",
      "\n",
      "\n",
      "Model 2: Decision Tree Classifier\n",
      "----------------------------------\n",
      "Accuracy - Validation: 0.8059701492537313\n",
      "F1 Score - Validation: 0.723404255319149\n",
      "AUC Score - Validation: 0.7869894839814136\n",
      "\n",
      "\n",
      "Model 3: Random Forest Classifier\n",
      "----------------------------------\n",
      "Accuracy - Validation: 0.8208955223880597\n",
      "F1 Score - Validation: 0.7209302325581396\n",
      "AUC Score - Validation: 0.7838102225483004\n",
      "\n",
      "\n",
      "Model 4: XGB Classifier\n",
      "----------------------------------\n",
      "Accuracy - Validation: 0.8134328358208955\n",
      "F1 Score - Validation: 0.7126436781609196\n",
      "AUC Score - Validation: 0.7780630961115187\n"
     ]
    }
   ],
   "source": [
    "print(\"\\nModel Validation Results\")\n",
    "print(\"\\n\")\n",
    "\n",
    "print(\"Model 1: Logistic Regression\")\n",
    "print(\"----------------------------------\")\n",
    "print(\"Accuracy - Validation:\", logistic_accuracy_score_valid)\n",
    "print(\"F1 Score - Validation:\", logistic_f1_score_valid)\n",
    "print(\"AUC Score - Validation:\", logistic_auc_score_valid)\n",
    "print(\"\\n\")\n",
    "\n",
    "print(\"Model 2: Decision Tree Classifier\")\n",
    "print(\"----------------------------------\")\n",
    "print(\"Accuracy - Validation:\", dt_accuracy_score_valid)\n",
    "print(\"F1 Score - Validation:\", dt_f1_score_valid)\n",
    "print(\"AUC Score - Validation:\", dt_auc_score_valid)\n",
    "print(\"\\n\")\n",
    "\n",
    "print(\"Model 3: Random Forest Classifier\")\n",
    "print(\"----------------------------------\")\n",
    "print(\"Accuracy - Validation:\", rf_accuracy_score_valid)\n",
    "print(\"F1 Score - Validation:\", rf_f1_score_valid)\n",
    "print(\"AUC Score - Validation:\", rf_auc_score_valid)\n",
    "print(\"\\n\")\n",
    "\n",
    "\n",
    "print(\"Model 4: XGB Classifier\")\n",
    "print(\"----------------------------------\")\n",
    "print(\"Accuracy - Validation:\", xgb_accuracy_score_valid)\n",
    "print(\"F1 Score - Validation:\", xgb_f1_score_valid)\n",
    "print(\"AUC Score - Validation:\", xgb_auc_score_valid)\n"
   ]
  },
  {
   "cell_type": "markdown",
   "metadata": {},
   "source": []
  },
  {
   "cell_type": "markdown",
   "metadata": {},
   "source": [
    "I want to check the prediction results on the separate test dataset file to see if the results are similar to what we see previously."
   ]
  },
  {
   "cell_type": "code",
   "execution_count": null,
   "metadata": {},
   "outputs": [],
   "source": [
    "df_test_transformed = preprocessor.transform(df_test[cat_columns + num_columns])"
   ]
  },
  {
   "cell_type": "code",
   "execution_count": null,
   "metadata": {},
   "outputs": [
    {
     "data": {
      "text/html": [
       "<div>\n",
       "<style scoped>\n",
       "    .dataframe tbody tr th:only-of-type {\n",
       "        vertical-align: middle;\n",
       "    }\n",
       "\n",
       "    .dataframe tbody tr th {\n",
       "        vertical-align: top;\n",
       "    }\n",
       "\n",
       "    .dataframe thead th {\n",
       "        text-align: right;\n",
       "    }\n",
       "</style>\n",
       "<table border=\"1\" class=\"dataframe\">\n",
       "  <thead>\n",
       "    <tr style=\"text-align: right;\">\n",
       "      <th></th>\n",
       "      <th>PassengerId</th>\n",
       "      <th>Pclass</th>\n",
       "      <th>Sex</th>\n",
       "      <th>Age</th>\n",
       "      <th>Parch</th>\n",
       "      <th>Fare</th>\n",
       "      <th>Age_Bin</th>\n",
       "      <th>Fare_Bin</th>\n",
       "      <th>Embarked_Code</th>\n",
       "      <th>Sex_Code</th>\n",
       "      <th>...</th>\n",
       "      <th>Elder</th>\n",
       "      <th>Age*Class*Sex</th>\n",
       "      <th>Fam_Size</th>\n",
       "      <th>Alone</th>\n",
       "      <th>Family_Category</th>\n",
       "      <th>Survival_Chance</th>\n",
       "      <th>Logistic Prediction</th>\n",
       "      <th>DT Prediction</th>\n",
       "      <th>RF Prediction</th>\n",
       "      <th>XGB Prediction</th>\n",
       "    </tr>\n",
       "  </thead>\n",
       "  <tbody>\n",
       "    <tr>\n",
       "      <th>0</th>\n",
       "      <td>892</td>\n",
       "      <td>3</td>\n",
       "      <td>male</td>\n",
       "      <td>34.5</td>\n",
       "      <td>0</td>\n",
       "      <td>7.8292</td>\n",
       "      <td>5</td>\n",
       "      <td>1</td>\n",
       "      <td>1</td>\n",
       "      <td>1</td>\n",
       "      <td>...</td>\n",
       "      <td>0</td>\n",
       "      <td>207.0</td>\n",
       "      <td>1</td>\n",
       "      <td>1</td>\n",
       "      <td>Small</td>\n",
       "      <td>1</td>\n",
       "      <td>0</td>\n",
       "      <td>0</td>\n",
       "      <td>0</td>\n",
       "      <td>0</td>\n",
       "    </tr>\n",
       "    <tr>\n",
       "      <th>1</th>\n",
       "      <td>893</td>\n",
       "      <td>3</td>\n",
       "      <td>female</td>\n",
       "      <td>47.0</td>\n",
       "      <td>0</td>\n",
       "      <td>7.0000</td>\n",
       "      <td>6</td>\n",
       "      <td>1</td>\n",
       "      <td>2</td>\n",
       "      <td>0</td>\n",
       "      <td>...</td>\n",
       "      <td>0</td>\n",
       "      <td>141.0</td>\n",
       "      <td>2</td>\n",
       "      <td>0</td>\n",
       "      <td>Small</td>\n",
       "      <td>4</td>\n",
       "      <td>1</td>\n",
       "      <td>1</td>\n",
       "      <td>0</td>\n",
       "      <td>0</td>\n",
       "    </tr>\n",
       "    <tr>\n",
       "      <th>2</th>\n",
       "      <td>894</td>\n",
       "      <td>2</td>\n",
       "      <td>male</td>\n",
       "      <td>62.0</td>\n",
       "      <td>0</td>\n",
       "      <td>9.6875</td>\n",
       "      <td>8</td>\n",
       "      <td>2</td>\n",
       "      <td>1</td>\n",
       "      <td>1</td>\n",
       "      <td>...</td>\n",
       "      <td>1</td>\n",
       "      <td>248.0</td>\n",
       "      <td>1</td>\n",
       "      <td>1</td>\n",
       "      <td>Alone</td>\n",
       "      <td>2</td>\n",
       "      <td>0</td>\n",
       "      <td>0</td>\n",
       "      <td>0</td>\n",
       "      <td>0</td>\n",
       "    </tr>\n",
       "    <tr>\n",
       "      <th>3</th>\n",
       "      <td>895</td>\n",
       "      <td>3</td>\n",
       "      <td>male</td>\n",
       "      <td>27.0</td>\n",
       "      <td>0</td>\n",
       "      <td>8.6625</td>\n",
       "      <td>4</td>\n",
       "      <td>1</td>\n",
       "      <td>2</td>\n",
       "      <td>1</td>\n",
       "      <td>...</td>\n",
       "      <td>0</td>\n",
       "      <td>162.0</td>\n",
       "      <td>1</td>\n",
       "      <td>1</td>\n",
       "      <td>Small</td>\n",
       "      <td>3</td>\n",
       "      <td>0</td>\n",
       "      <td>0</td>\n",
       "      <td>0</td>\n",
       "      <td>0</td>\n",
       "    </tr>\n",
       "    <tr>\n",
       "      <th>4</th>\n",
       "      <td>896</td>\n",
       "      <td>3</td>\n",
       "      <td>female</td>\n",
       "      <td>22.0</td>\n",
       "      <td>1</td>\n",
       "      <td>12.2875</td>\n",
       "      <td>4</td>\n",
       "      <td>2</td>\n",
       "      <td>2</td>\n",
       "      <td>0</td>\n",
       "      <td>...</td>\n",
       "      <td>0</td>\n",
       "      <td>66.0</td>\n",
       "      <td>3</td>\n",
       "      <td>0</td>\n",
       "      <td>Alone</td>\n",
       "      <td>1</td>\n",
       "      <td>0</td>\n",
       "      <td>1</td>\n",
       "      <td>0</td>\n",
       "      <td>1</td>\n",
       "    </tr>\n",
       "  </tbody>\n",
       "</table>\n",
       "<p>5 rows × 22 columns</p>\n",
       "</div>"
      ],
      "text/plain": [
       "   PassengerId  Pclass     Sex   Age  Parch     Fare  Age_Bin  Fare_Bin  \\\n",
       "0          892       3    male  34.5      0   7.8292        5         1   \n",
       "1          893       3  female  47.0      0   7.0000        6         1   \n",
       "2          894       2    male  62.0      0   9.6875        8         2   \n",
       "3          895       3    male  27.0      0   8.6625        4         1   \n",
       "4          896       3  female  22.0      1  12.2875        4         2   \n",
       "\n",
       "   Embarked_Code  Sex_Code  ...  Elder  Age*Class*Sex  Fam_Size  Alone  \\\n",
       "0              1         1  ...      0          207.0         1      1   \n",
       "1              2         0  ...      0          141.0         2      0   \n",
       "2              1         1  ...      1          248.0         1      1   \n",
       "3              2         1  ...      0          162.0         1      1   \n",
       "4              2         0  ...      0           66.0         3      0   \n",
       "\n",
       "   Family_Category  Survival_Chance Logistic Prediction  DT Prediction  \\\n",
       "0            Small                1                   0              0   \n",
       "1            Small                4                   1              1   \n",
       "2            Alone                2                   0              0   \n",
       "3            Small                3                   0              0   \n",
       "4            Alone                1                   0              1   \n",
       "\n",
       "   RF Prediction  XGB Prediction  \n",
       "0              0               0  \n",
       "1              0               0  \n",
       "2              0               0  \n",
       "3              0               0  \n",
       "4              0               1  \n",
       "\n",
       "[5 rows x 22 columns]"
      ]
     },
     "execution_count": 70,
     "metadata": {},
     "output_type": "execute_result"
    }
   ],
   "source": [
    "df_test.head()"
   ]
  }
 ],
 "metadata": {
  "kernelspec": {
   "display_name": "Python 3",
   "language": "python",
   "name": "python3"
  },
  "language_info": {
   "codemirror_mode": {
    "name": "ipython",
    "version": 3
   },
   "file_extension": ".py",
   "mimetype": "text/x-python",
   "name": "python",
   "nbconvert_exporter": "python",
   "pygments_lexer": "ipython3",
   "version": "3.11.4"
  }
 },
 "nbformat": 4,
 "nbformat_minor": 2
}
